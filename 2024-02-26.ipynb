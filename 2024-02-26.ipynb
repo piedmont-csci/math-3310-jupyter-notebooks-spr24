{
 "cells": [
  {
   "cell_type": "markdown",
   "metadata": {},
   "source": [
    "# Exact Confidence Intervals\n",
    "\n",
    "Recall from class that if $X\\sim\\operatorname{Exp}(\\lambda)$ for some unknown rate parameter $\\lambda$, then an *exact confidence interval* for $\\lambda$ with confidence level $1-\\alpha$ is\n",
    "\n",
    "$$\\left(\\frac{-\\ln\\left(1-\\frac{\\alpha}{2}\\right)}{X}, \\frac{-\\ln\\left(\\frac{\\alpha}{2}\\right)}{X}\\right).$$\n",
    "\n",
    "So in particular, for a 95% confidence (i.e., $\\alpha = 0.05$), we will use\n",
    "\n",
    "$$\\left(\\frac{-\\ln 0.975}{X}, \\frac{-\\ln 0.025}{X}\\right).$$\n",
    "\n",
    "Let's check this using $\\lambda = 3$.  First, we'll generate a random realization of $X$ and then compute the 95% confidence interval:"
   ]
  },
  {
   "cell_type": "code",
   "execution_count": 9,
   "metadata": {
    "scrolled": true
   },
   "outputs": [
    {
     "data": {
      "text/html": [
       "0.115071113718701"
      ],
      "text/latex": [
       "0.115071113718701"
      ],
      "text/markdown": [
       "0.115071113718701"
      ],
      "text/plain": [
       "[1] 0.1150711"
      ]
     },
     "execution_count": 9,
     "metadata": {},
     "output_type": "execute_result"
    },
    {
     "data": {
      "text/html": [
       "16.7662013797688"
      ],
      "text/latex": [
       "16.7662013797688"
      ],
      "text/markdown": [
       "16.7662013797688"
      ],
      "text/plain": [
       "[1] 16.7662"
      ]
     },
     "execution_count": 9,
     "metadata": {},
     "output_type": "execute_result"
    }
   ],
   "source": [
    "x <- rexp(1, 3)\n",
    "-log(0.975)/x\n",
    "-log(0.025)/x"
   ]
  },
  {
   "cell_type": "markdown",
   "metadata": {},
   "source": [
    "This tells us that we probably have $\\lambda\\in(0.1151, 16.7662)$.  And indeed, 3 is in this interval!\n",
    "\n",
    "In practice, we wouldn't actually know that $\\lambda = 3$.  We just chose $\\lambda = 3$ to both generate some random data in R and to check our work with a Monte Carlo simulation.\n",
    "\n",
    "So now, let's check our work!  First, we'll want a way of checking whether 3 is in the confidence interval.  We have two inequalities which we can combine with **&&** (for \"and\"):"
   ]
  },
  {
   "cell_type": "code",
   "execution_count": 1,
   "metadata": {},
   "outputs": [
    {
     "data": {
      "text/html": [
       "TRUE"
      ],
      "text/latex": [
       "TRUE"
      ],
      "text/markdown": [
       "TRUE"
      ],
      "text/plain": [
       "[1] TRUE"
      ]
     },
     "metadata": {},
     "output_type": "display_data"
    }
   ],
   "source": [
    "x <- rexp(1, 3); -log(0.975)/x < 3 && 3 < -log(0.025)/x"
   ]
  },
  {
   "cell_type": "markdown",
   "metadata": {},
   "source": [
    "Not surprisingly, 3 is in our confidence interval.  We expect this to happen with probability 0.95.  Now let's run our simulation 10000 times and see what happens:"
   ]
  },
  {
   "cell_type": "code",
   "execution_count": 10,
   "metadata": {},
   "outputs": [
    {
     "data": {
      "text/html": [
       "0.9469"
      ],
      "text/latex": [
       "0.9469"
      ],
      "text/markdown": [
       "0.9469"
      ],
      "text/plain": [
       "[1] 0.9469"
      ]
     },
     "execution_count": 10,
     "metadata": {},
     "output_type": "execute_result"
    }
   ],
   "source": [
    "mean(replicate(10000,{x <- rexp(1, 3); -log(0.975)/x < 3 && 3 < -log(0.025)/x}))"
   ]
  },
  {
   "cell_type": "markdown",
   "metadata": {},
   "source": [
    "This is pretty close to 0.95, so our confidence interval appears to be correct!"
   ]
  }
 ],
 "metadata": {
  "kernelspec": {
   "display_name": "R",
   "language": "R",
   "name": "ir"
  },
  "language_info": {
   "codemirror_mode": "r",
   "file_extension": ".r",
   "mimetype": "text/x-r-source",
   "name": "R",
   "pygments_lexer": "r",
   "version": "4.3.1"
  }
 },
 "nbformat": 4,
 "nbformat_minor": 4
}
