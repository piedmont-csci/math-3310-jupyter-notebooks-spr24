{
 "cells": [
  {
   "cell_type": "markdown",
   "metadata": {},
   "source": [
    "# Prediction Intervals\n",
    "\n",
    "Recall from class that if $X_1,\\ldots,X_{n+1}\\sim\\operatorname{Exp}(\\lambda)$, then an exact two-sided $100(1-\\alpha)\\%$ prediction interval for $X_{n+1}$ is $\\left(\\dfrac{\\overline x}{F_{\\alpha/2, 2n, 2}}, \\dfrac{\\overline x}{F_{1-\\alpha/2, 2n, 2}}\\right)$.\n",
    "\n",
    "Let's check this with $n=10$, $\\lambda = 5$, and $1-\\alpha=0.92$."
   ]
  },
  {
   "cell_type": "code",
   "execution_count": 6,
   "metadata": {},
   "outputs": [
    {
     "data": {
      "text/html": [
       "0.0066770975835299"
      ],
      "text/latex": [
       "0.0066770975835299"
      ],
      "text/markdown": [
       "0.0066770975835299"
      ],
      "text/plain": [
       "[1] 0.006677098"
      ]
     },
     "execution_count": 6,
     "metadata": {},
     "output_type": "execute_result"
    },
    {
     "data": {
      "text/html": [
       "0.619842406933823"
      ],
      "text/latex": [
       "0.619842406933823"
      ],
      "text/markdown": [
       "0.619842406933823"
      ],
      "text/plain": [
       "[1] 0.6198424"
      ]
     },
     "execution_count": 6,
     "metadata": {},
     "output_type": "execute_result"
    }
   ],
   "source": [
    "x <- rexp(10, 5)\n",
    "mean(x)/qf(0.04, 20, 2, lower.tail=FALSE)\n",
    "mean(x)/qf(0.96, 20, 2, lower.tail=FALSE)"
   ]
  },
  {
   "cell_type": "markdown",
   "metadata": {},
   "source": [
    "So now we would expect that 92% of the time, an 11th element from this distribution would lie in the interval $(0.006677, 0.6198)$.  Let's check this with a Monte Carlo simulation."
   ]
  },
  {
   "cell_type": "code",
   "execution_count": 8,
   "metadata": {},
   "outputs": [
    {
     "data": {
      "text/html": [
       "0.928"
      ],
      "text/latex": [
       "0.928"
      ],
      "text/markdown": [
       "0.928"
      ],
      "text/plain": [
       "[1] 0.928"
      ]
     },
     "execution_count": 8,
     "metadata": {},
     "output_type": "execute_result"
    }
   ],
   "source": [
    "mean(replicate(10000, {x <- rexp(1, 5); 0.0066770975835299 < x && x < 0.619842406933823}))"
   ]
  }
 ],
 "metadata": {
  "kernelspec": {
   "display_name": "R",
   "language": "R",
   "name": "ir"
  },
  "language_info": {
   "codemirror_mode": "r",
   "file_extension": ".r",
   "mimetype": "text/x-r-source",
   "name": "R",
   "pygments_lexer": "r",
   "version": "4.1.2"
  }
 },
 "nbformat": 4,
 "nbformat_minor": 4
}
