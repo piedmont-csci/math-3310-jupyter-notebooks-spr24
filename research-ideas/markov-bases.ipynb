{
 "cells": [
  {
   "cell_type": "markdown",
   "id": "22602ca1",
   "metadata": {},
   "source": [
    " # Markov Bases"
   ]
  },
  {
   "cell_type": "markdown",
   "id": "fad6ef8c",
   "metadata": {},
   "source": [
    "Consider the following data set from [AM12].  It is a 12 × 12 *contingency table*, where the rows correspond to birth months and the columns correspond to death months for 82 descendents of Queen Victoria."
   ]
  },
  {
   "cell_type": "code",
   "execution_count": 6,
   "id": "7ca5b4cb",
   "metadata": {
    "scrolled": true
   },
   "outputs": [
    {
     "data": {
      "text/html": [
       "<table class=\"dataframe\">\n",
       "<caption>A data.frame: 12 × 12</caption>\n",
       "<thead>\n",
       "\t<tr><th></th><th scope=col>January.deaths</th><th scope=col>February.deaths</th><th scope=col>March.deaths</th><th scope=col>April.deaths</th><th scope=col>May.deaths</th><th scope=col>June.deaths</th><th scope=col>July.deaths</th><th scope=col>August.deaths</th><th scope=col>September.deaths</th><th scope=col>October.deaths</th><th scope=col>November.deaths</th><th scope=col>December.deaths</th></tr>\n",
       "\t<tr><th></th><th scope=col>&lt;dbl&gt;</th><th scope=col>&lt;dbl&gt;</th><th scope=col>&lt;dbl&gt;</th><th scope=col>&lt;dbl&gt;</th><th scope=col>&lt;dbl&gt;</th><th scope=col>&lt;dbl&gt;</th><th scope=col>&lt;dbl&gt;</th><th scope=col>&lt;dbl&gt;</th><th scope=col>&lt;dbl&gt;</th><th scope=col>&lt;dbl&gt;</th><th scope=col>&lt;dbl&gt;</th><th scope=col>&lt;dbl&gt;</th></tr>\n",
       "</thead>\n",
       "<tbody>\n",
       "\t<tr><th scope=row>January births</th><td>1</td><td>0</td><td>0</td><td>0</td><td>1</td><td>2</td><td>0</td><td>0</td><td>1</td><td>0</td><td>1</td><td>0</td></tr>\n",
       "\t<tr><th scope=row>February births</th><td>1</td><td>0</td><td>0</td><td>1</td><td>0</td><td>0</td><td>0</td><td>0</td><td>0</td><td>1</td><td>0</td><td>2</td></tr>\n",
       "\t<tr><th scope=row>March births</th><td>1</td><td>0</td><td>0</td><td>0</td><td>2</td><td>1</td><td>0</td><td>0</td><td>0</td><td>0</td><td>0</td><td>1</td></tr>\n",
       "\t<tr><th scope=row>April births</th><td>3</td><td>0</td><td>2</td><td>0</td><td>0</td><td>0</td><td>1</td><td>0</td><td>1</td><td>3</td><td>1</td><td>1</td></tr>\n",
       "\t<tr><th scope=row>May births</th><td>2</td><td>1</td><td>1</td><td>1</td><td>1</td><td>1</td><td>1</td><td>1</td><td>1</td><td>1</td><td>1</td><td>0</td></tr>\n",
       "\t<tr><th scope=row>June births</th><td>2</td><td>0</td><td>0</td><td>0</td><td>1</td><td>0</td><td>0</td><td>0</td><td>0</td><td>0</td><td>0</td><td>0</td></tr>\n",
       "\t<tr><th scope=row>July births</th><td>2</td><td>0</td><td>2</td><td>1</td><td>0</td><td>0</td><td>0</td><td>0</td><td>1</td><td>1</td><td>1</td><td>2</td></tr>\n",
       "\t<tr><th scope=row>August births</th><td>0</td><td>0</td><td>0</td><td>3</td><td>0</td><td>0</td><td>1</td><td>0</td><td>0</td><td>1</td><td>0</td><td>2</td></tr>\n",
       "\t<tr><th scope=row>September births</th><td>0</td><td>0</td><td>0</td><td>1</td><td>1</td><td>0</td><td>0</td><td>0</td><td>0</td><td>0</td><td>1</td><td>0</td></tr>\n",
       "\t<tr><th scope=row>October births</th><td>1</td><td>1</td><td>0</td><td>2</td><td>0</td><td>0</td><td>1</td><td>0</td><td>0</td><td>1</td><td>1</td><td>0</td></tr>\n",
       "\t<tr><th scope=row>November births</th><td>0</td><td>1</td><td>1</td><td>1</td><td>2</td><td>0</td><td>0</td><td>2</td><td>0</td><td>1</td><td>1</td><td>0</td></tr>\n",
       "\t<tr><th scope=row>December births</th><td>0</td><td>1</td><td>1</td><td>0</td><td>0</td><td>0</td><td>1</td><td>0</td><td>0</td><td>0</td><td>0</td><td>0</td></tr>\n",
       "</tbody>\n",
       "</table>\n"
      ],
      "text/latex": [
       "A data.frame: 12 × 12\n",
       "\\begin{tabular}{r|llllllllllll}\n",
       "  & January.deaths & February.deaths & March.deaths & April.deaths & May.deaths & June.deaths & July.deaths & August.deaths & September.deaths & October.deaths & November.deaths & December.deaths\\\\\n",
       "  & <dbl> & <dbl> & <dbl> & <dbl> & <dbl> & <dbl> & <dbl> & <dbl> & <dbl> & <dbl> & <dbl> & <dbl>\\\\\n",
       "\\hline\n",
       "\tJanuary births & 1 & 0 & 0 & 0 & 1 & 2 & 0 & 0 & 1 & 0 & 1 & 0\\\\\n",
       "\tFebruary births & 1 & 0 & 0 & 1 & 0 & 0 & 0 & 0 & 0 & 1 & 0 & 2\\\\\n",
       "\tMarch births & 1 & 0 & 0 & 0 & 2 & 1 & 0 & 0 & 0 & 0 & 0 & 1\\\\\n",
       "\tApril births & 3 & 0 & 2 & 0 & 0 & 0 & 1 & 0 & 1 & 3 & 1 & 1\\\\\n",
       "\tMay births & 2 & 1 & 1 & 1 & 1 & 1 & 1 & 1 & 1 & 1 & 1 & 0\\\\\n",
       "\tJune births & 2 & 0 & 0 & 0 & 1 & 0 & 0 & 0 & 0 & 0 & 0 & 0\\\\\n",
       "\tJuly births & 2 & 0 & 2 & 1 & 0 & 0 & 0 & 0 & 1 & 1 & 1 & 2\\\\\n",
       "\tAugust births & 0 & 0 & 0 & 3 & 0 & 0 & 1 & 0 & 0 & 1 & 0 & 2\\\\\n",
       "\tSeptember births & 0 & 0 & 0 & 1 & 1 & 0 & 0 & 0 & 0 & 0 & 1 & 0\\\\\n",
       "\tOctober births & 1 & 1 & 0 & 2 & 0 & 0 & 1 & 0 & 0 & 1 & 1 & 0\\\\\n",
       "\tNovember births & 0 & 1 & 1 & 1 & 2 & 0 & 0 & 2 & 0 & 1 & 1 & 0\\\\\n",
       "\tDecember births & 0 & 1 & 1 & 0 & 0 & 0 & 1 & 0 & 0 & 0 & 0 & 0\\\\\n",
       "\\end{tabular}\n"
      ],
      "text/markdown": [
       "\n",
       "A data.frame: 12 × 12\n",
       "\n",
       "| <!--/--> | January.deaths &lt;dbl&gt; | February.deaths &lt;dbl&gt; | March.deaths &lt;dbl&gt; | April.deaths &lt;dbl&gt; | May.deaths &lt;dbl&gt; | June.deaths &lt;dbl&gt; | July.deaths &lt;dbl&gt; | August.deaths &lt;dbl&gt; | September.deaths &lt;dbl&gt; | October.deaths &lt;dbl&gt; | November.deaths &lt;dbl&gt; | December.deaths &lt;dbl&gt; |\n",
       "|---|---|---|---|---|---|---|---|---|---|---|---|---|\n",
       "| January births | 1 | 0 | 0 | 0 | 1 | 2 | 0 | 0 | 1 | 0 | 1 | 0 |\n",
       "| February births | 1 | 0 | 0 | 1 | 0 | 0 | 0 | 0 | 0 | 1 | 0 | 2 |\n",
       "| March births | 1 | 0 | 0 | 0 | 2 | 1 | 0 | 0 | 0 | 0 | 0 | 1 |\n",
       "| April births | 3 | 0 | 2 | 0 | 0 | 0 | 1 | 0 | 1 | 3 | 1 | 1 |\n",
       "| May births | 2 | 1 | 1 | 1 | 1 | 1 | 1 | 1 | 1 | 1 | 1 | 0 |\n",
       "| June births | 2 | 0 | 0 | 0 | 1 | 0 | 0 | 0 | 0 | 0 | 0 | 0 |\n",
       "| July births | 2 | 0 | 2 | 1 | 0 | 0 | 0 | 0 | 1 | 1 | 1 | 2 |\n",
       "| August births | 0 | 0 | 0 | 3 | 0 | 0 | 1 | 0 | 0 | 1 | 0 | 2 |\n",
       "| September births | 0 | 0 | 0 | 1 | 1 | 0 | 0 | 0 | 0 | 0 | 1 | 0 |\n",
       "| October births | 1 | 1 | 0 | 2 | 0 | 0 | 1 | 0 | 0 | 1 | 1 | 0 |\n",
       "| November births | 0 | 1 | 1 | 1 | 2 | 0 | 0 | 2 | 0 | 1 | 1 | 0 |\n",
       "| December births | 0 | 1 | 1 | 0 | 0 | 0 | 1 | 0 | 0 | 0 | 0 | 0 |\n",
       "\n"
      ],
      "text/plain": [
       "                 January.deaths February.deaths March.deaths April.deaths\n",
       "January births   1              0               0            0           \n",
       "February births  1              0               0            1           \n",
       "March births     1              0               0            0           \n",
       "April births     3              0               2            0           \n",
       "May births       2              1               1            1           \n",
       "June births      2              0               0            0           \n",
       "July births      2              0               2            1           \n",
       "August births    0              0               0            3           \n",
       "September births 0              0               0            1           \n",
       "October births   1              1               0            2           \n",
       "November births  0              1               1            1           \n",
       "December births  0              1               1            0           \n",
       "                 May.deaths June.deaths July.deaths August.deaths\n",
       "January births   1          2           0           0            \n",
       "February births  0          0           0           0            \n",
       "March births     2          1           0           0            \n",
       "April births     0          0           1           0            \n",
       "May births       1          1           1           1            \n",
       "June births      1          0           0           0            \n",
       "July births      0          0           0           0            \n",
       "August births    0          0           1           0            \n",
       "September births 1          0           0           0            \n",
       "October births   0          0           1           0            \n",
       "November births  2          0           0           2            \n",
       "December births  0          0           1           0            \n",
       "                 September.deaths October.deaths November.deaths\n",
       "January births   1                0              1              \n",
       "February births  0                1              0              \n",
       "March births     0                0              0              \n",
       "April births     1                3              1              \n",
       "May births       1                1              1              \n",
       "June births      0                0              0              \n",
       "July births      1                1              1              \n",
       "August births    0                1              0              \n",
       "September births 0                0              1              \n",
       "October births   0                1              1              \n",
       "November births  0                1              1              \n",
       "December births  0                0              0              \n",
       "                 December.deaths\n",
       "January births   0              \n",
       "February births  2              \n",
       "March births     1              \n",
       "April births     1              \n",
       "May births       0              \n",
       "June births      0              \n",
       "July births      2              \n",
       "August births    2              \n",
       "September births 0              \n",
       "October births   0              \n",
       "November births  0              \n",
       "December births  0              "
      ]
     },
     "metadata": {},
     "output_type": "display_data"
    }
   ],
   "source": [
    "birth_death <- data.frame(\n",
    "    \"January deaths\" = c(1,1,1,3,2,2,2,0,0,1,0,0),\n",
    "    \"February deaths\" = c(0,0,0,0,1,0,0,0,0,1,1,1),\n",
    "    \"March deaths\" = c(0,0,0,2,1,0,2,0,0,0,1,1),\n",
    "    \"April deaths\" = c(0,1,0,0,1,0,1,3,1,2,1,0),\n",
    "    \"May deaths\" = c(1,0,2,0,1,1,0,0,1,0,2,0),\n",
    "    \"June deaths\" = c(2,0,1,0,1,0,0,0,0,0,0,0),\n",
    "    \"July deaths\" = c(0,0,0,1,1,0,0,1,0,1,0,1),\n",
    "    \"August deaths\" = c(0,0,0,0,1,0,0,0,0,0,2,0),\n",
    "    \"September deaths\" = c(1,0,0,1,1,0,1,0,0,0,0,0),\n",
    "    \"October deaths\" = c(0,1,0,3,1,0,1,1,0,1,1,0),\n",
    "    \"November deaths\" = c(1,0,0,1,1,0,1,0,1,1,1,0),\n",
    "    \"December deaths\" = c(0,2,1,1,0,0,2,2,0,0,0,0),\n",
    "    row.names = c(\"January births\", \"February births\", \"March births\",\n",
    "                 \"April births\", \"May births\", \"June births\",\n",
    "                 \"July births\", \"August births\", \"September births\",\n",
    "                 \"October births\", \"November births\", \"December births\"))\n",
    "birth_death"
   ]
  },
  {
   "cell_type": "markdown",
   "id": "d2ce3a09",
   "metadata": {},
   "source": [
    "Here's our question -- are birth month and death month *independent*?\n",
    "\n",
    "One way of answering this sort of question is using *Pearon's chi-squared test for independence*, which is usually covered in an elementary statistics course.  But for this data set, it's not ideal since the data is so sparse (lots of entries with 0's).  The rule of thumb is to use Pearson's chi-squared test when most entries are at least 5, which is definitely not the case here!"
   ]
  },
  {
   "cell_type": "markdown",
   "id": "faaa6463",
   "metadata": {},
   "source": [
    "[AM12] D. F. Andrews and A. M. Herzberg. *Data: a collection of problems from many fields for the student and\n",
    "research worker*. Springer Science & Business Media, 2012"
   ]
  }
 ],
 "metadata": {
  "kernelspec": {
   "display_name": "R",
   "language": "R",
   "name": "ir"
  },
  "language_info": {
   "codemirror_mode": "r",
   "file_extension": ".r",
   "mimetype": "text/x-r-source",
   "name": "R",
   "pygments_lexer": "r",
   "version": "4.1.2"
  }
 },
 "nbformat": 4,
 "nbformat_minor": 5
}
