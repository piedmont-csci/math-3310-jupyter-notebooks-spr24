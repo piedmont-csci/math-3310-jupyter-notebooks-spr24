{
 "cells": [
  {
   "cell_type": "markdown",
   "metadata": {},
   "source": [
    "# Asymptotically Exact Confidence Intervals\n",
    "\n",
    "Recall from class that if $\\hat\\theta$ is the maximum likelihood estimator for some parameter $\\theta$, then $\\hat\\theta\\pm\\dfrac{z_{\\alpha/2}}{\\sqrt{nI(\\hat\\theta)}}$ is an asymptotically exact $100(1-\\alpha)\\%$ confidence interval for $\\theta$.\n",
    "\n",
    "In class, we saw that if $X_1,\\ldots,X_n\\sim\\operatorname{Exp(\\lambda)}$, we used this to construct an asymptotically exact confidence interval for the rate parameter $\\lambda$.  In particular, $\\dfrac{1}{\\overline X}\\pm \\dfrac{z_{\\alpha/2}}{\\sqrt{n}\\cdot\\overline X}$.\n",
    "\n",
    "Let's construct such an interval with $n = 120$ and $1-\\alpha = 0.98$ (and so $\\frac{\\alpha}{2}=0.01$).  We'll use $\\lambda = 4$ and check to see if the interval contains it."
   ]
  },
  {
   "cell_type": "code",
   "execution_count": 3,
   "metadata": {},
   "outputs": [
    {
     "data": {
      "text/html": [
       "3.60974940536452"
      ],
      "text/latex": [
       "3.60974940536452"
      ],
      "text/markdown": [
       "3.60974940536452"
      ],
      "text/plain": [
       "[1] 3.609749"
      ]
     },
     "execution_count": 3,
     "metadata": {},
     "output_type": "execute_result"
    },
    {
     "data": {
      "text/html": [
       "5.5563030304904"
      ],
      "text/latex": [
       "5.5563030304904"
      ],
      "text/markdown": [
       "5.5563030304904"
      ],
      "text/plain": [
       "[1] 5.556303"
      ]
     },
     "execution_count": 3,
     "metadata": {},
     "output_type": "execute_result"
    }
   ],
   "source": [
    "x <- rexp(120, 4)\n",
    "z <- qnorm(0.01, lower.tail = FALSE)\n",
    "1/mean(x) - z/(sqrt(120) * mean(x))\n",
    "1/mean(x) + z/(sqrt(120) * mean(x))"
   ]
  },
  {
   "cell_type": "markdown",
   "metadata": {},
   "source": [
    "Indeed, $3.6097 < 4 < 5.5563$.\n",
    "\n",
    "Now, let's check with a Monte Carlo simulation.  We would expect that approximately 98% of the time, the interval that we construct would contain 4."
   ]
  },
  {
   "cell_type": "code",
   "execution_count": 18,
   "metadata": {},
   "outputs": [
    {
     "data": {
      "text/html": [
       "0.9928"
      ],
      "text/latex": [
       "0.9928"
      ],
      "text/markdown": [
       "0.9928"
      ],
      "text/plain": [
       "[1] 0.9928"
      ]
     },
     "metadata": {},
     "output_type": "display_data"
    }
   ],
   "source": [
    "z <- qnorm(0.01, lower.tail = FALSE)\n",
    "mean(replicate(10000, {\n",
    "    x <- rexp(120, 4);\n",
    "    midpoint <- 1/mean(x);\n",
    "    E <- z/(sqrt(120) * mean(x));\n",
    "    midpoint - E < 4 && 4 < midpoint + 3}))"
   ]
  }
 ],
 "metadata": {
  "kernelspec": {
   "display_name": "R",
   "language": "R",
   "name": "ir"
  },
  "language_info": {
   "codemirror_mode": "r",
   "file_extension": ".r",
   "mimetype": "text/x-r-source",
   "name": "R",
   "pygments_lexer": "r",
   "version": "4.1.2"
  }
 },
 "nbformat": 4,
 "nbformat_minor": 4
}
