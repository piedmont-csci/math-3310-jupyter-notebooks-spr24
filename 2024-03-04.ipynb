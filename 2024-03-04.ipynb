{
 "cells": [
  {
   "cell_type": "markdown",
   "metadata": {},
   "source": [
    "# Approximate Confidence Intervals (cont.)\n",
    "\n",
    "Recall from a recent CBS News/YouGov poll (https://www.cbsnews.com/news/poll-trump-leads-biden-economy/), that from a sample of $n = 2159$ adults, $\\hat p = 0.48$ would vote for current president Joe Biden over former president Donald Trump in the upcoming presidential election.\n",
    "\n",
    "Let's use this data to compute both a Wald and a Wilson confidence interval.\n",
    "\n",
    "We'll start with Wald.  For a given confidence level $1 - \\alpha$, the endpoints of the Wald interval are\n",
    "\n",
    "$$\\hat p \\pm z_{\\alpha/2}\\sqrt{\\frac{\\hat p(1 - \\hat p)}{n}}$$\n",
    "\n",
    "Recall that $z_{\\alpha/2}$ is the solution to $P(Z > z_{\\alpha/2}) = \\frac{\\alpha}{2}$, where $Z\\sim N(0,1)$."
   ]
  },
  {
   "cell_type": "code",
   "execution_count": 2,
   "metadata": {
    "scrolled": true
   },
   "outputs": [
    {
     "data": {
      "text/html": [
       "0.0210738585337243"
      ],
      "text/latex": [
       "0.0210738585337243"
      ],
      "text/markdown": [
       "0.0210738585337243"
      ],
      "text/plain": [
       "[1] 0.02107386"
      ]
     },
     "metadata": {},
     "output_type": "display_data"
    },
    {
     "data": {
      "text/html": [
       "0.458926141466276"
      ],
      "text/latex": [
       "0.458926141466276"
      ],
      "text/markdown": [
       "0.458926141466276"
      ],
      "text/plain": [
       "[1] 0.4589261"
      ]
     },
     "metadata": {},
     "output_type": "display_data"
    },
    {
     "data": {
      "text/html": [
       "0.501073858533724"
      ],
      "text/latex": [
       "0.501073858533724"
      ],
      "text/markdown": [
       "0.501073858533724"
      ],
      "text/plain": [
       "[1] 0.5010739"
      ]
     },
     "metadata": {},
     "output_type": "display_data"
    }
   ],
   "source": [
    "z <- qnorm(0.025, lower.tail=FALSE)\n",
    "n <- 2159\n",
    "pHat <- 0.48\n",
    "E <- z*sqrt(pHat*(1 - pHat)/n)\n",
    "E\n",
    "pHat - E\n",
    "pHat + E"
   ]
  },
  {
   "cell_type": "markdown",
   "metadata": {},
   "source": [
    "So we're 95% confident that the population proportion of Biden voters is $p\\in(0.45893, 0.50107)$.\n",
    "\n",
    "Now let's switch to the Wilson interval.  Recall that this is\n",
    "\n",
    "$$\\frac{1}{1 + \\frac{z_{\\alpha/2}^2}{n}}\\left(\\hat p + \\frac{z_{\\alpha/2}^2}{2n} \\pm z_{\\alpha/2}\\sqrt{\\frac{\\hat p(1 - \\hat p)}{n} + \\frac{z_{\\alpha/2}^2}{4n^2}}\\right)$$\n",
    "\n",
    "Or equivalently,\n",
    "\n",
    "$$\\frac{1}{1 + \\frac{z_{\\alpha/2}^2}{n}}\\left(\\hat p + \\frac{z_{\\alpha/2}^2}{2n}\\right) \\pm \\frac{z_{\\alpha/2}}{1 + \\frac{z_{\\alpha/2}^2}{n}}\\sqrt{\\frac{\\hat p(1 - \\hat p)}{n}+\\frac{z_{\\alpha/2}^2}{4n^2}}$$\n",
    "\n",
    "The expression to the left of the \"$\\pm$\" is the midpoint of the confidence interval and the expression to the right is the margin of error."
   ]
  },
  {
   "cell_type": "code",
   "execution_count": 3,
   "metadata": {
    "scrolled": true
   },
   "outputs": [
    {
     "data": {
      "text/html": [
       "0.0210551653654663"
      ],
      "text/latex": [
       "0.0210551653654663"
      ],
      "text/markdown": [
       "0.0210551653654663"
      ],
      "text/plain": [
       "[1] 0.02105517"
      ]
     },
     "metadata": {},
     "output_type": "display_data"
    },
    {
     "data": {
      "text/html": [
       "0.458980356968406"
      ],
      "text/latex": [
       "0.458980356968406"
      ],
      "text/markdown": [
       "0.458980356968406"
      ],
      "text/plain": [
       "[1] 0.4589804"
      ]
     },
     "metadata": {},
     "output_type": "display_data"
    },
    {
     "data": {
      "text/html": [
       "0.501090687699339"
      ],
      "text/latex": [
       "0.501090687699339"
      ],
      "text/markdown": [
       "0.501090687699339"
      ],
      "text/plain": [
       "[1] 0.5010907"
      ]
     },
     "metadata": {},
     "output_type": "display_data"
    }
   ],
   "source": [
    "midpoint <- 1/(1+z^2/n)*(pHat + z^2/(2*n))\n",
    "E <- 1/(1+z^2/n)*z*sqrt(pHat*(1 - pHat)/n + z^2/(4*n^2))\n",
    "E\n",
    "midpoint - E\n",
    "midpoint + E"
   ]
  },
  {
   "cell_type": "markdown",
   "metadata": {},
   "source": [
    "So we're 95% confident that the population proportion of Biden voters is $p\\in(0.45898, 0.50109)$.  Pretty close to the Wald interval!"
   ]
  }
 ],
 "metadata": {
  "kernelspec": {
   "display_name": "R",
   "language": "R",
   "name": "ir"
  },
  "language_info": {
   "codemirror_mode": "r",
   "file_extension": ".r",
   "mimetype": "text/x-r-source",
   "name": "R",
   "pygments_lexer": "r",
   "version": "4.1.2"
  }
 },
 "nbformat": 4,
 "nbformat_minor": 4
}
