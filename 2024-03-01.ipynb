{
 "cells": [
  {
   "cell_type": "markdown",
   "metadata": {},
   "source": [
    "# Approximate Confidence Intervals\n",
    "\n",
    "Recall the *Wald confidence interval* for the parameter $p$ in a Bernoulli distribution:\n",
    "\n",
    "$$\\hat p \\pm z_{\\alpha/2}\\sqrt{\\frac{\\hat p(1 - \\hat p)}{n}},$$\n",
    "\n",
    "where $\\hat p$ is the sample proportion (which is just the sample mean, i.e., number of \"successes\" divided by sample size), and $z_{\\alpha/2}$ satisfies $P(Z > z_{\\alpha/2})=\\frac{\\alpha}{2}$.\n",
    "\n",
    "We frequently are interested in $1 - \\alpha = 0.95$, or $\\alpha = 0.05$, and so we'd like to find $z_{0.025}$:"
   ]
  },
  {
   "cell_type": "code",
   "execution_count": 3,
   "metadata": {},
   "outputs": [
    {
     "data": {
      "text/html": [
       "1.95996398454005"
      ],
      "text/latex": [
       "1.95996398454005"
      ],
      "text/markdown": [
       "1.95996398454005"
      ],
      "text/plain": [
       "[1] 1.959964"
      ]
     },
     "execution_count": 3,
     "metadata": {},
     "output_type": "execute_result"
    }
   ],
   "source": [
    "z <- qnorm(0.025, lower.tail = FALSE)\n",
    "z"
   ]
  },
  {
   "cell_type": "markdown",
   "metadata": {},
   "source": [
    "This is usually approximated in statistics textbooks as $z_{0.025}=1.96$.\n",
    "\n",
    "Now let's suppose we have $n=8000$ and $p=0.63$.  Assuming we didn't actually know the value of $p$, let's use a Wald confidence interval to approximate it.  In particular, we'll pick 8000 elements from a $\\operatorname{Bernoulli}(p)$ distribution using **rbinom**, use **mean** to compute the sample proportion, and then compute the bounds of our confidence interval:"
   ]
  },
  {
   "cell_type": "code",
   "execution_count": 7,
   "metadata": {},
   "outputs": [
    {
     "data": {
      "text/html": [
       "0.623821559424929"
      ],
      "text/latex": [
       "0.623821559424929"
      ],
      "text/markdown": [
       "0.623821559424929"
      ],
      "text/plain": [
       "[1] 0.6238216"
      ]
     },
     "execution_count": 7,
     "metadata": {},
     "output_type": "execute_result"
    },
    {
     "data": {
      "text/html": [
       "0.644928440575071"
      ],
      "text/latex": [
       "0.644928440575071"
      ],
      "text/markdown": [
       "0.644928440575071"
      ],
      "text/plain": [
       "[1] 0.6449284"
      ]
     },
     "execution_count": 7,
     "metadata": {},
     "output_type": "execute_result"
    }
   ],
   "source": [
    "pHat <- mean(rbinom(8000, 1, 0.63))\n",
    "E <- z * sqrt(pHat * (1 - pHat)/8000)\n",
    "pHat - E\n",
    "pHat + E"
   ]
  },
  {
   "cell_type": "markdown",
   "metadata": {},
   "source": [
    "So we're 95% confident that $0.6238 < p < 0.6449$.\n",
    "\n",
    "Now let's perform a Monte Carlo simulation.  We'll do the same thing as we did above 10000 times, and compute the proportion of times that our interval actually contains the population parameter $p = 0.63$:"
   ]
  },
  {
   "cell_type": "code",
   "execution_count": 9,
   "metadata": {},
   "outputs": [
    {
     "data": {
      "text/html": [
       "0.9514"
      ],
      "text/latex": [
       "0.9514"
      ],
      "text/markdown": [
       "0.9514"
      ],
      "text/plain": [
       "[1] 0.9514"
      ]
     },
     "execution_count": 9,
     "metadata": {},
     "output_type": "execute_result"
    }
   ],
   "source": [
    "mean(replicate(10000, {pHat <- mean(rbinom(8000, 1, 0.63));\n",
    "                       E <- z * sqrt(pHat * (1 - pHat)/8000);\n",
    "                       pHat - E < 0.63 && 0.63 < pHat + E}))"
   ]
  },
  {
   "cell_type": "markdown",
   "metadata": {},
   "source": [
    "So 95.14% of the time, the confidence interval we computed contained $p = 0.63$.  Not bad!"
   ]
  }
 ],
 "metadata": {
  "kernelspec": {
   "display_name": "R",
   "language": "R",
   "name": "ir"
  },
  "language_info": {
   "codemirror_mode": "r",
   "file_extension": ".r",
   "mimetype": "text/x-r-source",
   "name": "R",
   "pygments_lexer": "r",
   "version": "4.1.2"
  }
 },
 "nbformat": 4,
 "nbformat_minor": 4
}
