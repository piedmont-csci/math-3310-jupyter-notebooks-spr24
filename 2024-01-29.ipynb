{
 "cells": [
  {
   "cell_type": "markdown",
   "metadata": {},
   "source": [
    "# Estimating the mean\n",
    "\n",
    "Recall that if $X_1,\\ldots,X_n\\sim N(\\mu,\\sigma^2)$ are independent, then $\\dfrac{\\overline X - \\mu}{S/\\sqrt n} \\sim t(n - 1)$, i.e., it has the *Student's $t$ distribution* with $n - 1$ *degrees of freedom*.\n",
    "\n",
    "Suppose we obtained a random sample with $n = 16$, $\\overline x = 5$, and $s^2 = 9$.  What's the probability that we obtained this sample if $\\mu = 5$?  In particular, we would like to find a constant $a$ for which $P(|\\overline X - 5|<a) = 0.95$.\n",
    "\n",
    "In class, we reduced this problem to $P\\left(T > \\frac{4a}{3}\\right) = 0.025$.\n",
    "\n",
    "## Quantile functions\n",
    "\n",
    "First, a quick definition of *quantile function*, which I only briefly stated in class.  The quantile function is the inverse of cumulative distribution function.  For a given continuous random variable $X$, we define $Q_X$ so that for any $p\\in(0,1)$, $P(X\\leq Q_X(p)) = p$.  (The definition is slightly more technical than this, but this will work for us.)  For example, $Q_X(0.5)$ is the median of $X$.\n",
    "\n",
    "To find values of the quantile function for a probability distribution in R, we use a function starting with **q**.  For Student's _t_ distribution, we use **qt**.  The first argument is the desired probability $p$, the second argument is the parameter (degrees of freedom) of the distribution, and we can provide the **lower.tail** option to tell us that we're really looking for the area in the right tail of the distribution, i.e., to compute $Q_X(1 - p)$ instead of $Q_X(p)$."
   ]
  },
  {
   "cell_type": "code",
   "execution_count": 3,
   "metadata": {},
   "outputs": [
    {
     "data": {
      "text/html": [
       "2.13144954555978"
      ],
      "text/latex": [
       "2.13144954555978"
      ],
      "text/markdown": [
       "2.13144954555978"
      ],
      "text/plain": [
       "[1] 2.13145"
      ]
     },
     "execution_count": 3,
     "metadata": {},
     "output_type": "execute_result"
    }
   ],
   "source": [
    "qt(0.025, 15, lower.tail=FALSE)"
   ]
  },
  {
   "cell_type": "markdown",
   "metadata": {},
   "source": [
    "This gave us $a = \\frac{3}{4}\\cdot 2.1314 = 1.5986$.\n",
    "\n",
    "Now let's check our work with a Monte Carlo simulation.  We can generate random variates of the a normal distribution with **rnorm**.  The first argument will be the number of variates to generate, the second will be the mean, and the third the standard deviation.  (We don't actually know $\\sigma$, but it's reasonable to use $\\sigma\\approx s = 3$.)"
   ]
  },
  {
   "cell_type": "code",
   "execution_count": 2,
   "metadata": {},
   "outputs": [
    {
     "data": {
      "text/html": [
       "<style>\n",
       ".list-inline {list-style: none; margin:0; padding: 0}\n",
       ".list-inline>li {display: inline-block}\n",
       ".list-inline>li:not(:last-child)::after {content: \"\\00b7\"; padding: 0 .5ex}\n",
       "</style>\n",
       "<ol class=list-inline><li>8.76329711122121</li><li>2.51081364213779</li><li>7.17385618142083</li><li>3.75471867892491</li><li>6.48534302398381</li><li>1.48541929506846</li><li>2.87384288701243</li><li>2.74880008997853</li><li>6.02450924409991</li><li>10.806966358477</li><li>6.96505004233108</li><li>4.44691188192201</li><li>7.30877412115905</li><li>4.06746975020697</li><li>7.76286660980522</li><li>6.19480239872261</li></ol>\n"
      ],
      "text/latex": [
       "\\begin{enumerate*}\n",
       "\\item 8.76329711122121\n",
       "\\item 2.51081364213779\n",
       "\\item 7.17385618142083\n",
       "\\item 3.75471867892491\n",
       "\\item 6.48534302398381\n",
       "\\item 1.48541929506846\n",
       "\\item 2.87384288701243\n",
       "\\item 2.74880008997853\n",
       "\\item 6.02450924409991\n",
       "\\item 10.806966358477\n",
       "\\item 6.96505004233108\n",
       "\\item 4.44691188192201\n",
       "\\item 7.30877412115905\n",
       "\\item 4.06746975020697\n",
       "\\item 7.76286660980522\n",
       "\\item 6.19480239872261\n",
       "\\end{enumerate*}\n"
      ],
      "text/markdown": [
       "1. 8.76329711122121\n",
       "2. 2.51081364213779\n",
       "3. 7.17385618142083\n",
       "4. 3.75471867892491\n",
       "5. 6.48534302398381\n",
       "6. 1.48541929506846\n",
       "7. 2.87384288701243\n",
       "8. 2.74880008997853\n",
       "9. 6.02450924409991\n",
       "10. 10.806966358477\n",
       "11. 6.96505004233108\n",
       "12. 4.44691188192201\n",
       "13. 7.30877412115905\n",
       "14. 4.06746975020697\n",
       "15. 7.76286660980522\n",
       "16. 6.19480239872261\n",
       "\n",
       "\n"
      ],
      "text/plain": [
       " [1]  8.763297  2.510814  7.173856  3.754719  6.485343  1.485419  2.873843\n",
       " [8]  2.748800  6.024509 10.806966  6.965050  4.446912  7.308774  4.067470\n",
       "[15]  7.762867  6.194802"
      ]
     },
     "metadata": {},
     "output_type": "display_data"
    }
   ],
   "source": [
    "rnorm(16, 5, 3)"
   ]
  },
  {
   "cell_type": "markdown",
   "metadata": {},
   "source": [
    "We're curious how far away our sample mean is from the assumed population mean of 5, so we're going to compute the following lots of times."
   ]
  },
  {
   "cell_type": "code",
   "execution_count": 3,
   "metadata": {},
   "outputs": [
    {
     "data": {
      "text/html": [
       "1.87198960297089"
      ],
      "text/latex": [
       "1.87198960297089"
      ],
      "text/markdown": [
       "1.87198960297089"
      ],
      "text/plain": [
       "[1] 1.87199"
      ]
     },
     "metadata": {},
     "output_type": "display_data"
    }
   ],
   "source": [
    "abs(mean(rnorm(16, 5, 3)) - 5)"
   ]
  },
  {
   "cell_type": "code",
   "execution_count": 4,
   "metadata": {},
   "outputs": [
    {
     "data": {
      "text/html": [
       "0.9649"
      ],
      "text/latex": [
       "0.9649"
      ],
      "text/markdown": [
       "0.9649"
      ],
      "text/plain": [
       "[1] 0.9649"
      ]
     },
     "metadata": {},
     "output_type": "display_data"
    }
   ],
   "source": [
    "N <- 10000\n",
    "mean(replicate(N, abs(mean(rnorm(16, 5, 3)) - 5) < 1.5986))"
   ]
  },
  {
   "cell_type": "markdown",
   "metadata": {},
   "source": [
    "We were expecting 0.95.  Not bad!"
   ]
  },
  {
   "cell_type": "markdown",
   "metadata": {},
   "source": [
    "# Estimating variance\n",
    "\n",
    "This is the example I stated poorly in class.  Let's try again.\n",
    "\n",
    "Same example as above.  Let $n = 16$, $\\overline x = 5$, and $s^2 = 9$.  We would like to find two constants $b$ and $c$ such that $P(b < S^2 < c)=0.95$ if $\\sigma^2 = 9$.  An in particular, for which $P(S^2 < b) = P(S^2 > c) = \\frac{1-0.95}{2}=0.025$, i.e., the areas in the left and right tails should agree.\n",
    "\n",
    "(Note that we're *not* subtracting 9 like I did in class.  I confused the mean and variance cases.)\n",
    "\n",
    "Using Student's theorem, we know that $\\frac{(n-1)S^2}{\\sigma^2}=\\frac{15 S^2}{9}\\sim\\chi^2(15)$.\n",
    "\n",
    "So we have the following.  First, let's find $b$:\n",
    "\n",
    "$$P(S^2 < b) = 0.025$$\n",
    "$$P\\left(\\frac{15 S^2}{9} < \\frac{15 b}{9}\\right) = 0.025$$\n",
    "\n",
    "Letting $X=\\frac{15 S^2}{9}\\sim\\chi^2(15)$, we  have:\n",
    "\n",
    "$$P\\left(X < \\frac{15b}{9}\\right) = 0.025$$\n",
    "$$P\\left(X > \\frac{15b}{9}\\right) = 1 - 0.025 = 0.975$$\n",
    "\n",
    "Now let's use R to figure out what $\\frac{15b}{9}$ must be.  We'll use the **qchisq** function, which works just like **qt**."
   ]
  },
  {
   "cell_type": "code",
   "execution_count": 6,
   "metadata": {},
   "outputs": [
    {
     "data": {
      "text/html": [
       "6.26213779504325"
      ],
      "text/latex": [
       "6.26213779504325"
      ],
      "text/markdown": [
       "6.26213779504325"
      ],
      "text/plain": [
       "[1] 6.262138"
      ]
     },
     "metadata": {},
     "output_type": "display_data"
    }
   ],
   "source": [
    "qchisq(0.975, 15, lower.tail = FALSE)"
   ]
  },
  {
   "cell_type": "markdown",
   "metadata": {},
   "source": [
    "So we have:\n",
    "\n",
    "$$\\frac{15b}{9} = 6.2621$$\n",
    "$$b = \\frac{9}{15}\\cdot 6.2621 = 3.7573$$\n",
    "\n",
    "Now let's play the same game for $c$:\n",
    "\n",
    "$$P(S^2 > c) = 0.025$$\n",
    "$$P\\left(\\frac{15 S^2}{9} > \\frac{15 c}{9}\\right) = 0.025$$\n",
    "$$P\\left(X > \\frac{15 c}{9}\\right) = 0.025$$"
   ]
  },
  {
   "cell_type": "code",
   "execution_count": 7,
   "metadata": {},
   "outputs": [
    {
     "data": {
      "text/html": [
       "27.488392863443"
      ],
      "text/latex": [
       "27.488392863443"
      ],
      "text/markdown": [
       "27.488392863443"
      ],
      "text/plain": [
       "[1] 27.48839"
      ]
     },
     "metadata": {},
     "output_type": "display_data"
    }
   ],
   "source": [
    "qchisq(0.025, 15, lower.tail = FALSE)"
   ]
  },
  {
   "cell_type": "markdown",
   "metadata": {},
   "source": [
    "$$\\frac{15 c}{9} = 27.4884$$\n",
    "$$c = \\frac{9}{15}\\cdot 27.4884 = 16.4930$$\n",
    "\n",
    "Consequently, we expect that $P(3.7573<S^2 < 16.4930) = 0.95$.\n",
    "\n",
    "Let's check with a Monte Carlo simulation.  This time we don't know $\\mu$, but we do know that $\\mu\\approx\\overline x = 5$.\n",
    "\n",
    "We can't enter a three-part inequality directly in R, but we can combine two regular inequalities using **&&** for \"and\".  The following will check if the variance of a random sample from our distribution lies in the desired interval.  Note that we compute the sample variance first and save it to a variable so we don't compute two different sample variances."
   ]
  },
  {
   "cell_type": "code",
   "execution_count": 15,
   "metadata": {},
   "outputs": [
    {
     "data": {
      "text/html": [
       "TRUE"
      ],
      "text/latex": [
       "TRUE"
      ],
      "text/markdown": [
       "TRUE"
      ],
      "text/plain": [
       "[1] TRUE"
      ]
     },
     "metadata": {},
     "output_type": "display_data"
    }
   ],
   "source": [
    "s2 <- var(rnorm(16, 5, 3)); 3.7573 < s2 && s2 < 16.4930"
   ]
  },
  {
   "cell_type": "markdown",
   "metadata": {},
   "source": [
    "Now let's run our Monte Carlo simulation."
   ]
  },
  {
   "cell_type": "code",
   "execution_count": 16,
   "metadata": {},
   "outputs": [
    {
     "data": {
      "text/html": [
       "0.9485"
      ],
      "text/latex": [
       "0.9485"
      ],
      "text/markdown": [
       "0.9485"
      ],
      "text/plain": [
       "[1] 0.9485"
      ]
     },
     "metadata": {},
     "output_type": "display_data"
    }
   ],
   "source": [
    "N <- 10000\n",
    "mean(replicate(N, {s2 <- var(rnorm(16, 5, 3)); 3.7573 < s2 && s2 < 16.4930}))"
   ]
  },
  {
   "cell_type": "markdown",
   "metadata": {},
   "source": [
    "Very nice!"
   ]
  }
 ],
 "metadata": {
  "kernelspec": {
   "display_name": "R",
   "language": "R",
   "name": "ir"
  },
  "language_info": {
   "codemirror_mode": "r",
   "file_extension": ".r",
   "mimetype": "text/x-r-source",
   "name": "R",
   "pygments_lexer": "r",
   "version": "4.1.2"
  }
 },
 "nbformat": 4,
 "nbformat_minor": 4
}
